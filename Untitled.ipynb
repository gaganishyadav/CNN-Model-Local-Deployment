{
 "cells": [
  {
   "cell_type": "code",
   "execution_count": 1,
   "id": "8cc2447a",
   "metadata": {},
   "outputs": [],
   "source": [
    "from flask import Flask, render_template, request\n",
    "#from keras.preprocessing.image import load_img, img_to_array\n",
    "from tensorflow.keras.utils import load_img, img_to_array\n",
    "from tensorflow.keras.applications.vgg16 import preprocess_input, decode_predictions, VGG16"
   ]
  },
  {
   "cell_type": "code",
   "execution_count": 2,
   "id": "c8da6993",
   "metadata": {},
   "outputs": [],
   "source": [
    "from werkzeug.wrappers import Request, Response"
   ]
  },
  {
   "cell_type": "code",
   "execution_count": 3,
   "id": "4e90e3d0",
   "metadata": {},
   "outputs": [],
   "source": [
    "app=Flask(__name__)\n",
    "model=VGG16()"
   ]
  },
  {
   "cell_type": "code",
   "execution_count": 4,
   "id": "3a50ab78",
   "metadata": {},
   "outputs": [],
   "source": [
    "@app.route('/',methods=['GET'])\n",
    "def hello():\n",
    "    return render_template('index.html')"
   ]
  },
  {
   "cell_type": "code",
   "execution_count": 5,
   "id": "08594959",
   "metadata": {},
   "outputs": [],
   "source": [
    "@app.route('/',methods=['POST'])\n",
    "def pred():\n",
    "    img=request.files['imagefile']\n",
    "    img_path=\"images/\"+img.filename\n",
    "    img.save(img_path)\n",
    "    image=load_img(img_path,target_size=(224,224))\n",
    "    image=img_to_array(image)\n",
    "    image=image.reshape((1,image.shape[0],image.shape[1],image.shape[2]))\n",
    "    image=preprocess_input(image)\n",
    "    y=model.predict(image)\n",
    "    label=decode_predictions(y)\n",
    "    label=label[0][0]\n",
    "    classification='%s (%.2f%%)' % (label[1],label[2]*100)\n",
    "    return render_template('index.html', prediction=classification)"
   ]
  },
  {
   "cell_type": "code",
   "execution_count": 6,
   "id": "f2f0a10f",
   "metadata": {},
   "outputs": [
    {
     "name": "stderr",
     "output_type": "stream",
     "text": [
      " * Running on http://localhost:9000/ (Press CTRL+C to quit)\n",
      "127.0.0.1 - - [28/May/2023 18:36:21] \"GET / HTTP/1.1\" 200 -\n"
     ]
    },
    {
     "name": "stdout",
     "output_type": "stream",
     "text": [
      "1/1 [==============================] - 22s 22s/step\n"
     ]
    },
    {
     "name": "stderr",
     "output_type": "stream",
     "text": [
      "127.0.0.1 - - [28/May/2023 18:37:20] \"POST / HTTP/1.1\" 200 -\n"
     ]
    },
    {
     "name": "stdout",
     "output_type": "stream",
     "text": [
      "1/1 [==============================] - 10s 10s/step\n"
     ]
    },
    {
     "name": "stderr",
     "output_type": "stream",
     "text": [
      "127.0.0.1 - - [28/May/2023 18:40:21] \"POST / HTTP/1.1\" 200 -\n"
     ]
    }
   ],
   "source": [
    "if __name__ == '__main__':\n",
    "    from werkzeug.serving import run_simple\n",
    "  #  app.run(port=3000, debug=True)\n",
    "    run_simple('localhost',9000,app)"
   ]
  }
 ],
 "metadata": {
  "kernelspec": {
   "display_name": "Python 3 (ipykernel)",
   "language": "python",
   "name": "python3"
  },
  "language_info": {
   "codemirror_mode": {
    "name": "ipython",
    "version": 3
   },
   "file_extension": ".py",
   "mimetype": "text/x-python",
   "name": "python",
   "nbconvert_exporter": "python",
   "pygments_lexer": "ipython3",
   "version": "3.9.12"
  }
 },
 "nbformat": 4,
 "nbformat_minor": 5
}
